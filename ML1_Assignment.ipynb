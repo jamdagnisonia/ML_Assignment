{
 "cells": [
  {
   "cell_type": "markdown",
   "id": "3c9b2472-7d43-4826-8527-99e4be1599ad",
   "metadata": {},
   "source": [
    "# Question 1:\n",
    "  AI\n",
    "  Ml\n",
    "  dl\n",
    "  "
   ]
  },
  {
   "cell_type": "markdown",
   "id": "5ba7cd1d-0de9-4cd1-ad24-1020fdb051e9",
   "metadata": {},
   "source": [
    "# Artifitial Intelligence: \n",
    "AI simulates human intelligence to perform tasks and make decisions.\n",
    "AI is broader term that describes the capability of machine to learn and solve prolems just like humans. In other words AI refers to the replication of humans,how it thinks, works and functions.\n",
    "\n",
    "On the lower ground, AI can be seen as a program that instructs the machine to function in a certain way according to the situation. So, we can call bunch of IF-ELSE statements,AI. For instance, self driving car moving on the road. For example:\n",
    "\n",
    "\n",
    "if distance_from_in_front< 100m:\n",
    "   \n",
    "     stop();\n",
    "   \n",
    "else:\n",
    "\n",
    "     keep_moving();\n",
    "    \n",
    "\n",
    "\n",
    "\n",
    "\n",
    "# Relation of AI with ML and DL:\n",
    "there are two ways to acieve AI. One is through Machine learning and another is Deep learnig. so we can say ML is subset of AI and DL is subset of Ml.\n",
    "\n",
    "# example of AI is: \n",
    "Virtual Assistants, Recommendation System, Chatboat, Immage and Video Analysis, Language Translation, Email Filtering, Gaming, Robotics etc.\n",
    "\n",
    "\n",
    "\n",
    "\n",
    "# Machine learning:\n",
    "ML comprises algorithms for accomplishing different types of tasks such as classification, regression, or clustring. The accuracy of algorithm inceases with an increase in data.\n",
    "\n",
    "The major aim of Ml is allow the system to learn by themselves throung experience without any kind of human assistance. ML is subset of AI.\n",
    "\n",
    "# example of ML is: \n",
    "Stock Market Prediction, Customer Segmentation, Virtual Assistance, Fraud Detaction, Lenguage Generation, Anomaly Detaction, Speach Recognition etc.\n",
    "\n",
    "\n",
    "\n",
    "\n",
    "# Deep learning:\n",
    "deep learing is an emerging field that has been steady use since ist inception in the field in 2010. It is based on Artificial neural network which is nothing but a mimic of the working of the human brain.\n",
    "\n",
    "Just like a ML model, the DL model requires a large amount od data to learn and make an informed decision. it is suset of ML. the DL is based on Artificial Neural Network which have the capability of solving tasks which ML is unable to solve. \n",
    "\n",
    "# example of ML is: \n",
    "Image Classification, Natural Language Processing, Speach Recognition,, Object Detaction, Generative Adversarial Networks, Drug Discovery, Game AI etc.\n"
   ]
  },
  {
   "cell_type": "markdown",
   "id": "73c28ae0-d5d3-450b-8daa-6b562debb311",
   "metadata": {},
   "source": [
    "# Question2: \n",
    "\n",
    "Supervised Learning:\n"
   ]
  },
  {
   "cell_type": "markdown",
   "id": "a51854cc-6655-4bb6-8599-cf2c628718d2",
   "metadata": {},
   "source": [
    "# Supervised learning \n",
    "it is a type of machine learning where the algorithm learns from labeled training data. The algorithm is provided with input-output pairs, and it learns to map inputs to corresponding outputs. The goal of supervised learning is to create a function that can accurately map new, unseen input data to the correct output based on the patterns it learned during training. In supervised learning, the model is trained on a labeled dataset where each training example is paired with the correct output. The algorithm learns to map inputs to outputs by adjusting its parameters to minimize the error between predicted and actual outputs.\n",
    "\n",
    "\n",
    "# Some common examples of supervised learning include:\n",
    "\n",
    "Image Classification: Given a dataset of images with corresponding labels, the model learns to classify new images into different categories, such as identifying whether an image contains a cat or a dog.\n",
    "\n",
    "Spam Email Detection: A model is trained on a dataset of emails labeled as spam or non-spam. It learns to classify incoming emails as either spam or not spam based on the content and features of the emails.\n",
    "\n",
    "Sentiment Analysis: By using a dataset of text data with labeled sentiments (positive, negative, neutral), a model can learn to analyze and classify the sentiment of new text data, such as social media posts or customer reviews.\n",
    "\n",
    "Predicting House Prices: Given a dataset of features like size, location, and number of bedrooms with corresponding house prices, a model can learn to predict the price of a new house based on its features.\n",
    "\n",
    "Handwritten Digit Recognition: Models can be trained on a dataset of handwritten digits with corresponding labels to recognize and classify new handwritten digits into the correct numerical digit (0-9)."
   ]
  },
  {
   "cell_type": "markdown",
   "id": "45e8df5c-e2b4-4d00-84fc-2814b2628573",
   "metadata": {},
   "source": [
    "# Question3\n",
    "Unsupervised learning:"
   ]
  },
  {
   "cell_type": "markdown",
   "id": "bf91dde6-1c79-4765-a82f-02b2fb9f3604",
   "metadata": {},
   "source": [
    "# Unsupervised learning \n",
    "It is a type of machine learning where algorithms learn patterns from unlabeled data without any specific guidance or feedback. In unsupervised learning, the algorithm explores the data, finds hidden structures or patterns within it, and groups similar data points together. The goal is to learn the underlying structure of the data without explicit labels.\n",
    "\n",
    "Example of unsupervised learning:\n",
    "\n",
    "Clustering: One common example of unsupervised learning is clustering, where the algorithm groups similar data points together based on their inherent characteristics. For instance, clustering can be used to segment customers based on their purchasing behavior without prior knowledge of specific customer segments."
   ]
  },
  {
   "cell_type": "markdown",
   "id": "220a3d28-2909-4f9b-a520-cbee97cf7710",
   "metadata": {},
   "source": [
    "# Question 4\n",
    "difference btw AI, ML, DL and DS"
   ]
  },
  {
   "cell_type": "markdown",
   "id": "112aa5b8-b872-4f74-bb77-14a6f8565af0",
   "metadata": {},
   "source": [
    "Artificial Intelligence : \n",
    " \n",
    "AI is a broad field of computer science focused on creating systems that can perform tasks that typically require human intelligence. It encompasses a wide range of techniques, including machine learning and deep learning, to enable machines to simulate human intelligence.\n",
    "\n",
    " Machine Learning : \n",
    " \n",
    "Machine learning is a subset of AI that involves developing algorithms and models that allow computers to learn from and make predictions or decisions based on data. ML algorithms can improve their performance over time without being explicitly programmed.\n",
    "\n",
    "Deep Learning : \n",
    "\n",
    "Deep learning is a subset of machine learning that uses neural networks with multiple layers to extract high-level features from data. DL algorithms are particularly effective for learning complex patterns from large amounts of data, such as images, speech, and text.\n",
    "\n",
    "Data Science : \n",
    "\n",
    "Data science is an interdisciplinary field that combines domain expertise, programming skills, and statistical knowledge to extract insights and knowledge from data. Data scientists use various techniques, including machine learning and statistical analysis, to interpret and analyze complex data sets.\n",
    "\n",
    "In last, AI is a broad field of creating intelligent systems, ML is a subset of AI focused on algorithms learning from data, DL is a subset of ML using deep neural networks, and DS involves extracting insights and knowledge from data using various tools and techniques."
   ]
  },
  {
   "cell_type": "markdown",
   "id": "30f613f7-f112-42d3-b3ca-927b1cfb9dc1",
   "metadata": {},
   "source": [
    "# Question 5\n",
    "main differences between supervised, unsupervised, and semi-supervised learning:\n"
   ]
  },
  {
   "cell_type": "markdown",
   "id": "5edd12c2-f9e4-4fe1-b570-6c817ee68d53",
   "metadata": {},
   "source": [
    "# Supervised Learning:\n",
    "   In supervised learning, the algorithm is trained on labeled data, where each input is paired with a corresponding output.\n",
    "   The goal is to learn a mapping from input to output based on the labeled training data.\n",
    "   The model predicts outputs for new, unseen data based on the patterns learned during training.\n",
    "   Examples: classification and regression tasks.\n",
    "\n",
    "# Unsupervised Learning:\n",
    "   In unsupervised learning, the algorithm is trained on unlabeled data without specific outputs provided.\n",
    "   The algorithm explores the data to find hidden patterns, structures, or groupings within the data.\n",
    "   The goal is to learn the underlying structure of the data without explicit guidance.\n",
    "   Examples: clustering, dimensionality reduction, and anomaly detection.\n",
    "\n",
    "# Semi-Supervised Learning:\n",
    "   Semi-supervised learning is a combination of supervised and unsupervised learning.\n",
    "   The algorithm is trained on a dataset that contains a small amount of labeled data and a larger amount of unlabeled data.\n",
    "   The model leverages both the labeled and unlabeled data to improve learning and generalization.\n",
    "   Semi-supervised learning is useful when obtaining labeled data is expensive or time-consuming.\n",
    "\n",
    "lastly, supervised learning uses labeled data to learn a mapping from inputs to outputs, unsupervised learning explores unlabeled data to find patterns, and semi-supervised learning combines both labeled and unlabeled data to improve learning performance."
   ]
  },
  {
   "cell_type": "markdown",
   "id": "0ef97334-4fa3-4df1-9703-671ff10342e1",
   "metadata": {},
   "source": [
    "# Question 6\n",
    "train-test-validation split "
   ]
  },
  {
   "cell_type": "markdown",
   "id": "9eb1f9a6-494d-4254-955f-0260028da069",
   "metadata": {},
   "source": [
    "In machine learning, the train-test-validation split refers to dividing a dataset into subsets for training, testing, and validating a model's performance.\n",
    "\n",
    "# Training Set:\n",
    "   The training set is the portion of the dataset used to train the machine learning model.\n",
    "   The model learns the patterns in the training data to make predictions.\n",
    "   It is crucial for the model to learn from this data to generalize well to unseen data.\n",
    "\n",
    "# Validation Set:\n",
    "   The validation set is used to tune hyperparameters and evaluate the model during training.\n",
    "   It helps in selecting the best model by providing feedback on performance without overfitting to the test set.\n",
    "   The model's performance on the validation set guides adjustments to improve its generalization.\n",
    "\n",
    "# Test Set:\n",
    "   The test set is a separate portion of the dataset used to evaluate the final performance of the trained model.\n",
    "   It provides an unbiased estimate of the model's performance on unseen data.\n",
    "   The model should not see the test set during training to ensure an objective evaluation of its generalization ability.\n",
    "\n",
    "By splitting the dataset into training, validation, and test sets, machine learning practitioners can train models effectively, fine-tune hyperparameters, and assess performance accurately on unseen data."
   ]
  },
  {
   "cell_type": "markdown",
   "id": "fd7bd4c9-e846-4ef8-b944-15cb1c9265d3",
   "metadata": {},
   "source": [
    "# Question 7\n"
   ]
  },
  {
   "cell_type": "markdown",
   "id": "7448dcf5-c775-4741-aced-4a632137fb95",
   "metadata": {},
   "source": [
    "Unsupervised learning can be used in anomaly detection by leveraging techniques such as clustering and density estimation.\n",
    "\n",
    "# Clustering for Anomaly Detection:\n",
    "   Unsupervised clustering algorithms like K-means or DBSCAN can group data points into clusters based on similarity.\n",
    "   Anomalies are detected as data points that do not belong to any cluster or are in sparsely populated clusters.\n",
    "   Distance-based clustering methods can identify outliers or anomalies that are far from the cluster centers.\n",
    "\n",
    "# Density Estimation for Anomaly Detection:\n",
    "   Density estimation algorithms like Gaussian Mixture Models (GMM) or Kernel Density Estimation (KDE) can estimate the density of data points.\n",
    "   Anomalies are identified as data points that have low probability density, indicating they are rare or unusual compared to the majority of data points.\n",
    "\n",
    "# One-Class SVM:\n",
    "   One-Class Support Vector Machines (SVM) is a technique that learns the distribution of normal data and identifies anomalies as data points lying outside this distribution.\n",
    "   It can be useful for detecting outliers in situations where only normal data is available for training.\n",
    "\n",
    "# Isolation Forest:\n",
    "   Isolation Forest is an unsupervised learning algorithm that isolates anomalies by randomly partitioning data points.\n",
    "   Anomalies are identified as instances that require fewer partitions to isolate, as they are different from the majority of data points.\n",
    "\n",
    "By applying unsupervised learning techniques like clustering, density estimation, One-Class SVM, or Isolation Forest, anomalies or outliers in data can be detected without the need for labeled examples. These methods can help identify unusual patterns or instances that deviate from the norm in the dataset."
   ]
  },
  {
   "cell_type": "markdown",
   "id": "b2a7e16c-7968-41c4-85df-6a5fe986eedb",
   "metadata": {},
   "source": [
    "# Question 8\n"
   ]
  },
  {
   "cell_type": "markdown",
   "id": "74151cee-0f10-4f77-a0e0-98d2d61d3971",
   "metadata": {},
   "source": [
    "# Supervised Learning Algorithms:\n",
    "\n",
    "# Linear Regression:\n",
    "   Linear regression is a statistical method to model the relationship between a dependent variable and one or more independent variables.\n",
    "   It aims to find the best-fitting linear equation that describes the relationship between variables.\n",
    "   Commonly used for predicting continuous numeric values.\n",
    "\n",
    "# Logistic Regression:\n",
    "   Logistic regression is used for binary classification tasks, where the output is a probability between 0 and 1.\n",
    "   It models the probability of a binary outcome based on one or more predictor variables.\n",
    "   Widely used in fields like medicine, finance, and marketing for predictive modeling.\n",
    "\n",
    "# Support Vector Machines (SVM):\n",
    "   SVM is a powerful supervised learning algorithm used for classification and regression tasks.\n",
    "   It finds the optimal hyperplane that best separates data points into different classes.\n",
    "   SVM can handle both linearly separable and non-linearly separable data through kernel tricks.\n",
    "\n",
    "# Unsupervised Learning Algorithms:\n",
    "\n",
    "# K-Means Clustering:\n",
    "   K-Means is a popular clustering algorithm that partitions data points into K clusters based on their similarity.\n",
    "   It aims to minimize the sum of squared distances between data points and their respective cluster centroids.\n",
    "   Used for segmenting data into distinct groups based on similarity.\n",
    "\n",
    "# Hierarchical Clustering:\n",
    "   Hierarchical clustering builds a tree of clusters where each data point starts in its own cluster and pairs of clusters are merged based on their similarity.\n",
    "   It creates a hierarchy of clusters that can be visualized as a dendrogram.\n",
    "   Useful for identifying hierarchical relationships in data.\n",
    "\n",
    "# DBSCAN (Density-Based Spatial Clustering of Applications with Noise):\n",
    "   DBSCAN is a density-based clustering algorithm that groups together points that are closely packed, while marking outliers as noise.\n",
    "   It doesn't require specifying the number of clusters in advance and can handle complex cluster shapes.\n",
    "   Effective for discovering clusters of varying shapes and sizes in data."
   ]
  }
 ],
 "metadata": {
  "kernelspec": {
   "display_name": "Python 3 (ipykernel)",
   "language": "python",
   "name": "python3"
  },
  "language_info": {
   "codemirror_mode": {
    "name": "ipython",
    "version": 3
   },
   "file_extension": ".py",
   "mimetype": "text/x-python",
   "name": "python",
   "nbconvert_exporter": "python",
   "pygments_lexer": "ipython3",
   "version": "3.10.8"
  }
 },
 "nbformat": 4,
 "nbformat_minor": 5
}
